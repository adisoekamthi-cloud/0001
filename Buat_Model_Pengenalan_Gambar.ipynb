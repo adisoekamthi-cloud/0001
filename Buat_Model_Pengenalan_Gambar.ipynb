{
  "cells": [
    {
      "cell_type": "markdown",
      "metadata": {
        "id": "view-in-github",
        "colab_type": "text"
      },
      "source": [
        "<a href=\"https://colab.research.google.com/github/adisoekamthi-cloud/0001/blob/main/Buat_Model_Pengenalan_Gambar.ipynb\" target=\"_parent\"><img src=\"https://colab.research.google.com/assets/colab-badge.svg\" alt=\"Open In Colab\"/></a>"
      ]
    },
    {
      "cell_type": "markdown",
      "id": "4eca340f",
      "metadata": {
        "id": "4eca340f"
      },
      "source": [
        "# MEMBUAT MODEL"
      ]
    },
    {
      "cell_type": "code",
      "source": [
        "#import library\n",
        "import os\n",
        "import cv2\n",
        "import numpy as np\n",
        "import pandas as pd\n",
        "from keras.models import Sequential\n",
        "from keras.layers import Conv2D, MaxPooling2D, Flatten, Dense\n",
        "from tensorflow.keras.preprocessing.image import ImageDataGenerator, img_to_array, load_img"
      ],
      "metadata": {
        "id": "P1uOt8e6R2Mb"
      },
      "id": "P1uOt8e6R2Mb",
      "execution_count": 33,
      "outputs": []
    },
    {
      "cell_type": "code",
      "source": [
        "#Hubungkan ke gdrive\n",
        "from google.colab import drive\n",
        "drive.mount(\"/content/gdrive\")"
      ],
      "metadata": {
        "colab": {
          "base_uri": "https://localhost:8080/"
        },
        "id": "0uKB0pFqR9-x",
        "outputId": "a79952ac-db78-483e-b8a0-6f16ca583ba3"
      },
      "id": "0uKB0pFqR9-x",
      "execution_count": 34,
      "outputs": [
        {
          "output_type": "stream",
          "name": "stdout",
          "text": [
            "Drive already mounted at /content/gdrive; to attempt to forcibly remount, call drive.mount(\"/content/gdrive\", force_remount=True).\n"
          ]
        }
      ]
    },
    {
      "cell_type": "code",
      "source": [
        "import os\n",
        "os.makedirs('/content/gdrive/MyDrive/Data/Dataset/Foto/Train/Dikenali', exist_ok=True)\n",
        "os.makedirs('/content/gdrive/MyDrive/Data/Dataset/Foto/Train/Tidak_Dikenali', exist_ok=True)\n",
        "os.makedirs('/content/gdrive/MyDrive/Data/Dataset/Foto/Test/Dikenali', exist_ok=True)\n",
        "os.makedirs('/content/gdrive/MyDrive/Data/Dataset/Foto/Test/Tidak_Dikenali', exist_ok=True)\n"
      ],
      "metadata": {
        "id": "SSnFvIBHIXV_"
      },
      "id": "SSnFvIBHIXV_",
      "execution_count": 35,
      "outputs": []
    },
    {
      "cell_type": "code",
      "source": [
        "#Sumber dataset dari gdrive\n",
        "#Sesuaikan lokasi penyimpanan di gdrive\n",
        "train_path = '/content/gdrive/MyDrive/Data/Dataset/Foto/Train'\n",
        "test_path = '/content/gdrive/MyDrive/Data/Dataset/Foto/Test/'\n",
        "\n",
        "#Susunan penyimpanan dataset di folder\n",
        "#    Dataset/\n",
        "#   ├── Train/\n",
        "#    │   ├── Dikenali/\n",
        "#    │   │   ├── wajah1.jpg\n",
        "#    │   │   ├── wajah2.jpg\n",
        "#    │   │   └── ...\n",
        "#    │   └── Tidak_Dikenali/\n",
        "#    │       ├── wajah01.jpg\n",
        "#    │       ├── wajah02.jpg\n",
        "#    │       └── ...\n",
        "#   └── Test/\n",
        "#       ├── Dikenali/\n",
        "#       │   ├── wajah1.jpg\n",
        "#       │   ├── wajah2.jpg\n",
        "#       │   └── ...\n",
        "#       └── Tidak_Dikenali/\n",
        "#           ├── wajah01.jpg\n",
        "#           ├── wajah02.jpg\n",
        "#           └── ..."
      ],
      "metadata": {
        "id": "US-KD9biSikq"
      },
      "id": "US-KD9biSikq",
      "execution_count": 36,
      "outputs": []
    },
    {
      "cell_type": "code",
      "source": [
        "import os\n",
        "\n",
        "#Cek apakah dataset ada di gdrive?\n",
        "paths = {\n",
        "    #Sesuaikan lokasi penyimpanan di gdrive\n",
        "    \"Train Dikenali\": '/content/gdrive/MyDrive/Data/Dataset/Foto/Train/Dikenali',\n",
        "    \"Train Tidak Dikenali\": '/content/gdrive/MyDrive/Data/Dataset/Foto/Train/Tidak_Dikenali',\n",
        "    \"Test Dikenali\": '/content/gdrive/MyDrive/Data/Dataset/Foto/Test/Dikenali',\n",
        "    \"Test Tidak Dikenali\": '/content/gdrive/MyDrive/Data/Dataset/Foto/Test/Tidak_Dikenali'\n",
        "}\n",
        "\n",
        "# Periksa setiap path penyimpanan di gdrive\n",
        "for folder_name, path in paths.items():\n",
        "    print(f\"Cek folder: {folder_name} ({path})\")\n",
        "\n",
        "    # Cek apakah lokasi penyimpanan ada\n",
        "    if os.path.exists(path):\n",
        "        found_files = False\n",
        "        for filename in os.listdir(path):\n",
        "            if filename.lower().endswith((\".jpg\", \".jpeg\", \".png\")):\n",
        "                print(f\"  Ditemukan file: {os.path.join(path, filename)}\")\n",
        "                found_files = True\n",
        "\n",
        "        # Jika tidak ada file ditemukan\n",
        "        if not found_files:\n",
        "            print(f\"  Tidak ada file (.jpg, .jpeg, .png) di folder {folder_name}\")\n",
        "    else:\n",
        "        print(f\"Lokasi penyimpanan tidak ditemukan: {path}\")\n",
        "\n",
        "print(\"selesai.\")\n"
      ],
      "metadata": {
        "id": "Xcfy5gonWV2j",
        "colab": {
          "base_uri": "https://localhost:8080/"
        },
        "outputId": "35bd2e12-ffe7-4438-97ff-f7a42c3b7811"
      },
      "id": "Xcfy5gonWV2j",
      "execution_count": 40,
      "outputs": [
        {
          "output_type": "stream",
          "name": "stdout",
          "text": [
            "Cek folder: Train Dikenali (/content/gdrive/MyDrive/Data/Dataset/Foto/Train/Dikenali)\n",
            "  Ditemukan file: /content/gdrive/MyDrive/Data/Dataset/Foto/Train/Dikenali/img2.jpg\n",
            "  Ditemukan file: /content/gdrive/MyDrive/Data/Dataset/Foto/Train/Dikenali/img5.jpg\n",
            "  Ditemukan file: /content/gdrive/MyDrive/Data/Dataset/Foto/Train/Dikenali/img1.jpg\n",
            "  Ditemukan file: /content/gdrive/MyDrive/Data/Dataset/Foto/Train/Dikenali/img3.jpg\n",
            "  Ditemukan file: /content/gdrive/MyDrive/Data/Dataset/Foto/Train/Dikenali/img4.jpg\n",
            "  Ditemukan file: /content/gdrive/MyDrive/Data/Dataset/Foto/Train/Dikenali/img6.jpg\n",
            "  Ditemukan file: /content/gdrive/MyDrive/Data/Dataset/Foto/Train/Dikenali/img7.jpg\n",
            "  Ditemukan file: /content/gdrive/MyDrive/Data/Dataset/Foto/Train/Dikenali/img8.jpg\n",
            "  Ditemukan file: /content/gdrive/MyDrive/Data/Dataset/Foto/Train/Dikenali/img9.jpg\n",
            "  Ditemukan file: /content/gdrive/MyDrive/Data/Dataset/Foto/Train/Dikenali/img11.jpg\n",
            "  Ditemukan file: /content/gdrive/MyDrive/Data/Dataset/Foto/Train/Dikenali/img10.jpg\n",
            "Cek folder: Train Tidak Dikenali (/content/gdrive/MyDrive/Data/Dataset/Foto/Train/Tidak_Dikenali)\n",
            "  Ditemukan file: /content/gdrive/MyDrive/Data/Dataset/Foto/Train/Tidak_Dikenali/img1.jpg\n",
            "  Ditemukan file: /content/gdrive/MyDrive/Data/Dataset/Foto/Train/Tidak_Dikenali/img5.jpg\n",
            "  Ditemukan file: /content/gdrive/MyDrive/Data/Dataset/Foto/Train/Tidak_Dikenali/img3.jpg\n",
            "  Ditemukan file: /content/gdrive/MyDrive/Data/Dataset/Foto/Train/Tidak_Dikenali/img2.jpg\n",
            "  Ditemukan file: /content/gdrive/MyDrive/Data/Dataset/Foto/Train/Tidak_Dikenali/img4.jpg\n",
            "  Ditemukan file: /content/gdrive/MyDrive/Data/Dataset/Foto/Train/Tidak_Dikenali/img6.jpg\n",
            "  Ditemukan file: /content/gdrive/MyDrive/Data/Dataset/Foto/Train/Tidak_Dikenali/img8.jpg\n",
            "  Ditemukan file: /content/gdrive/MyDrive/Data/Dataset/Foto/Train/Tidak_Dikenali/img7.jpg\n",
            "  Ditemukan file: /content/gdrive/MyDrive/Data/Dataset/Foto/Train/Tidak_Dikenali/img9.jpg\n",
            "  Ditemukan file: /content/gdrive/MyDrive/Data/Dataset/Foto/Train/Tidak_Dikenali/img10.jpg\n",
            "  Ditemukan file: /content/gdrive/MyDrive/Data/Dataset/Foto/Train/Tidak_Dikenali/img11.jpg\n",
            "  Ditemukan file: /content/gdrive/MyDrive/Data/Dataset/Foto/Train/Tidak_Dikenali/img12.jpg\n",
            "  Ditemukan file: /content/gdrive/MyDrive/Data/Dataset/Foto/Train/Tidak_Dikenali/img13.jpg\n",
            "  Ditemukan file: /content/gdrive/MyDrive/Data/Dataset/Foto/Train/Tidak_Dikenali/img15.jpg\n",
            "  Ditemukan file: /content/gdrive/MyDrive/Data/Dataset/Foto/Train/Tidak_Dikenali/img14.jpg\n",
            "  Ditemukan file: /content/gdrive/MyDrive/Data/Dataset/Foto/Train/Tidak_Dikenali/img16.jpg\n",
            "  Ditemukan file: /content/gdrive/MyDrive/Data/Dataset/Foto/Train/Tidak_Dikenali/img19.jpg\n",
            "  Ditemukan file: /content/gdrive/MyDrive/Data/Dataset/Foto/Train/Tidak_Dikenali/img17.jpg\n",
            "  Ditemukan file: /content/gdrive/MyDrive/Data/Dataset/Foto/Train/Tidak_Dikenali/img18.jpg\n",
            "  Ditemukan file: /content/gdrive/MyDrive/Data/Dataset/Foto/Train/Tidak_Dikenali/img20.jpg\n",
            "  Ditemukan file: /content/gdrive/MyDrive/Data/Dataset/Foto/Train/Tidak_Dikenali/img21.jpg\n",
            "  Ditemukan file: /content/gdrive/MyDrive/Data/Dataset/Foto/Train/Tidak_Dikenali/img22.jpg\n",
            "  Ditemukan file: /content/gdrive/MyDrive/Data/Dataset/Foto/Train/Tidak_Dikenali/img23.jpg\n",
            "  Ditemukan file: /content/gdrive/MyDrive/Data/Dataset/Foto/Train/Tidak_Dikenali/img24.jpg\n",
            "  Ditemukan file: /content/gdrive/MyDrive/Data/Dataset/Foto/Train/Tidak_Dikenali/img25.jpg\n",
            "  Ditemukan file: /content/gdrive/MyDrive/Data/Dataset/Foto/Train/Tidak_Dikenali/img27.jpg\n",
            "  Ditemukan file: /content/gdrive/MyDrive/Data/Dataset/Foto/Train/Tidak_Dikenali/img28.jpg\n",
            "  Ditemukan file: /content/gdrive/MyDrive/Data/Dataset/Foto/Train/Tidak_Dikenali/img29.jpg\n",
            "  Ditemukan file: /content/gdrive/MyDrive/Data/Dataset/Foto/Train/Tidak_Dikenali/img30.jpg\n",
            "  Ditemukan file: /content/gdrive/MyDrive/Data/Dataset/Foto/Train/Tidak_Dikenali/img31.jpg\n",
            "  Ditemukan file: /content/gdrive/MyDrive/Data/Dataset/Foto/Train/Tidak_Dikenali/img32.jpg\n",
            "  Ditemukan file: /content/gdrive/MyDrive/Data/Dataset/Foto/Train/Tidak_Dikenali/img33.jpg\n",
            "  Ditemukan file: /content/gdrive/MyDrive/Data/Dataset/Foto/Train/Tidak_Dikenali/img34.jpg\n",
            "  Ditemukan file: /content/gdrive/MyDrive/Data/Dataset/Foto/Train/Tidak_Dikenali/img35.jpg\n",
            "  Ditemukan file: /content/gdrive/MyDrive/Data/Dataset/Foto/Train/Tidak_Dikenali/img36.jpg\n",
            "  Ditemukan file: /content/gdrive/MyDrive/Data/Dataset/Foto/Train/Tidak_Dikenali/img37.jpg\n",
            "  Ditemukan file: /content/gdrive/MyDrive/Data/Dataset/Foto/Train/Tidak_Dikenali/img38.jpg\n",
            "  Ditemukan file: /content/gdrive/MyDrive/Data/Dataset/Foto/Train/Tidak_Dikenali/img39.jpg\n",
            "  Ditemukan file: /content/gdrive/MyDrive/Data/Dataset/Foto/Train/Tidak_Dikenali/img40.jpg\n",
            "  Ditemukan file: /content/gdrive/MyDrive/Data/Dataset/Foto/Train/Tidak_Dikenali/img41.jpg\n",
            "  Ditemukan file: /content/gdrive/MyDrive/Data/Dataset/Foto/Train/Tidak_Dikenali/img42.jpg\n",
            "  Ditemukan file: /content/gdrive/MyDrive/Data/Dataset/Foto/Train/Tidak_Dikenali/img43.jpg\n",
            "  Ditemukan file: /content/gdrive/MyDrive/Data/Dataset/Foto/Train/Tidak_Dikenali/img44.jpg\n",
            "  Ditemukan file: /content/gdrive/MyDrive/Data/Dataset/Foto/Train/Tidak_Dikenali/img45.jpg\n",
            "  Ditemukan file: /content/gdrive/MyDrive/Data/Dataset/Foto/Train/Tidak_Dikenali/img46.jpg\n",
            "  Ditemukan file: /content/gdrive/MyDrive/Data/Dataset/Foto/Train/Tidak_Dikenali/img47.jpg\n",
            "  Ditemukan file: /content/gdrive/MyDrive/Data/Dataset/Foto/Train/Tidak_Dikenali/img48.jpg\n",
            "  Ditemukan file: /content/gdrive/MyDrive/Data/Dataset/Foto/Train/Tidak_Dikenali/img49.jpg\n",
            "  Ditemukan file: /content/gdrive/MyDrive/Data/Dataset/Foto/Train/Tidak_Dikenali/img50.jpg\n",
            "Cek folder: Test Dikenali (/content/gdrive/MyDrive/Data/Dataset/Foto/Test/Dikenali)\n",
            "  Ditemukan file: /content/gdrive/MyDrive/Data/Dataset/Foto/Test/Dikenali/img2.jpg\n",
            "  Ditemukan file: /content/gdrive/MyDrive/Data/Dataset/Foto/Test/Dikenali/img1.jpg\n",
            "  Ditemukan file: /content/gdrive/MyDrive/Data/Dataset/Foto/Test/Dikenali/img4.jpg\n",
            "  Ditemukan file: /content/gdrive/MyDrive/Data/Dataset/Foto/Test/Dikenali/img5.jpg\n",
            "  Ditemukan file: /content/gdrive/MyDrive/Data/Dataset/Foto/Test/Dikenali/img3.jpg\n",
            "  Ditemukan file: /content/gdrive/MyDrive/Data/Dataset/Foto/Test/Dikenali/img6.jpg\n",
            "  Ditemukan file: /content/gdrive/MyDrive/Data/Dataset/Foto/Test/Dikenali/img7.jpg\n",
            "  Ditemukan file: /content/gdrive/MyDrive/Data/Dataset/Foto/Test/Dikenali/img8.jpg\n",
            "  Ditemukan file: /content/gdrive/MyDrive/Data/Dataset/Foto/Test/Dikenali/img9.jpg\n",
            "  Ditemukan file: /content/gdrive/MyDrive/Data/Dataset/Foto/Test/Dikenali/img10.jpg\n",
            "  Ditemukan file: /content/gdrive/MyDrive/Data/Dataset/Foto/Test/Dikenali/img11.jpg\n",
            "Cek folder: Test Tidak Dikenali (/content/gdrive/MyDrive/Data/Dataset/Foto/Test/Tidak_Dikenali)\n",
            "  Ditemukan file: /content/gdrive/MyDrive/Data/Dataset/Foto/Test/Tidak_Dikenali/img5.jpg\n",
            "  Ditemukan file: /content/gdrive/MyDrive/Data/Dataset/Foto/Test/Tidak_Dikenali/img3.jpg\n",
            "  Ditemukan file: /content/gdrive/MyDrive/Data/Dataset/Foto/Test/Tidak_Dikenali/img1.jpg\n",
            "  Ditemukan file: /content/gdrive/MyDrive/Data/Dataset/Foto/Test/Tidak_Dikenali/img2.jpg\n",
            "  Ditemukan file: /content/gdrive/MyDrive/Data/Dataset/Foto/Test/Tidak_Dikenali/img4.jpg\n",
            "  Ditemukan file: /content/gdrive/MyDrive/Data/Dataset/Foto/Test/Tidak_Dikenali/img6.jpg\n",
            "  Ditemukan file: /content/gdrive/MyDrive/Data/Dataset/Foto/Test/Tidak_Dikenali/img9.jpg\n",
            "  Ditemukan file: /content/gdrive/MyDrive/Data/Dataset/Foto/Test/Tidak_Dikenali/img10.jpg\n",
            "  Ditemukan file: /content/gdrive/MyDrive/Data/Dataset/Foto/Test/Tidak_Dikenali/img7.jpg\n",
            "  Ditemukan file: /content/gdrive/MyDrive/Data/Dataset/Foto/Test/Tidak_Dikenali/img8.jpg\n",
            "  Ditemukan file: /content/gdrive/MyDrive/Data/Dataset/Foto/Test/Tidak_Dikenali/img11.jpg\n",
            "  Ditemukan file: /content/gdrive/MyDrive/Data/Dataset/Foto/Test/Tidak_Dikenali/img12.jpg\n",
            "  Ditemukan file: /content/gdrive/MyDrive/Data/Dataset/Foto/Test/Tidak_Dikenali/img13.jpg\n",
            "  Ditemukan file: /content/gdrive/MyDrive/Data/Dataset/Foto/Test/Tidak_Dikenali/img14.jpg\n",
            "  Ditemukan file: /content/gdrive/MyDrive/Data/Dataset/Foto/Test/Tidak_Dikenali/img15.jpg\n",
            "  Ditemukan file: /content/gdrive/MyDrive/Data/Dataset/Foto/Test/Tidak_Dikenali/img16.jpg\n",
            "  Ditemukan file: /content/gdrive/MyDrive/Data/Dataset/Foto/Test/Tidak_Dikenali/img17.jpg\n",
            "  Ditemukan file: /content/gdrive/MyDrive/Data/Dataset/Foto/Test/Tidak_Dikenali/img18.jpg\n",
            "  Ditemukan file: /content/gdrive/MyDrive/Data/Dataset/Foto/Test/Tidak_Dikenali/img19.jpg\n",
            "  Ditemukan file: /content/gdrive/MyDrive/Data/Dataset/Foto/Test/Tidak_Dikenali/img20.jpg\n",
            "  Ditemukan file: /content/gdrive/MyDrive/Data/Dataset/Foto/Test/Tidak_Dikenali/img21.jpg\n",
            "  Ditemukan file: /content/gdrive/MyDrive/Data/Dataset/Foto/Test/Tidak_Dikenali/img22.jpg\n",
            "  Ditemukan file: /content/gdrive/MyDrive/Data/Dataset/Foto/Test/Tidak_Dikenali/img23.jpg\n",
            "  Ditemukan file: /content/gdrive/MyDrive/Data/Dataset/Foto/Test/Tidak_Dikenali/img24.jpg\n",
            "  Ditemukan file: /content/gdrive/MyDrive/Data/Dataset/Foto/Test/Tidak_Dikenali/img25.jpg\n",
            "  Ditemukan file: /content/gdrive/MyDrive/Data/Dataset/Foto/Test/Tidak_Dikenali/img27.jpg\n",
            "  Ditemukan file: /content/gdrive/MyDrive/Data/Dataset/Foto/Test/Tidak_Dikenali/img28.jpg\n",
            "  Ditemukan file: /content/gdrive/MyDrive/Data/Dataset/Foto/Test/Tidak_Dikenali/img30.jpg\n",
            "  Ditemukan file: /content/gdrive/MyDrive/Data/Dataset/Foto/Test/Tidak_Dikenali/img29.jpg\n",
            "  Ditemukan file: /content/gdrive/MyDrive/Data/Dataset/Foto/Test/Tidak_Dikenali/img31.jpg\n",
            "  Ditemukan file: /content/gdrive/MyDrive/Data/Dataset/Foto/Test/Tidak_Dikenali/img32.jpg\n",
            "  Ditemukan file: /content/gdrive/MyDrive/Data/Dataset/Foto/Test/Tidak_Dikenali/img33.jpg\n",
            "  Ditemukan file: /content/gdrive/MyDrive/Data/Dataset/Foto/Test/Tidak_Dikenali/img35.jpg\n",
            "  Ditemukan file: /content/gdrive/MyDrive/Data/Dataset/Foto/Test/Tidak_Dikenali/img34.jpg\n",
            "  Ditemukan file: /content/gdrive/MyDrive/Data/Dataset/Foto/Test/Tidak_Dikenali/img36.jpg\n",
            "  Ditemukan file: /content/gdrive/MyDrive/Data/Dataset/Foto/Test/Tidak_Dikenali/img37.jpg\n",
            "  Ditemukan file: /content/gdrive/MyDrive/Data/Dataset/Foto/Test/Tidak_Dikenali/img38.jpg\n",
            "  Ditemukan file: /content/gdrive/MyDrive/Data/Dataset/Foto/Test/Tidak_Dikenali/img39.jpg\n",
            "  Ditemukan file: /content/gdrive/MyDrive/Data/Dataset/Foto/Test/Tidak_Dikenali/img40.jpg\n",
            "  Ditemukan file: /content/gdrive/MyDrive/Data/Dataset/Foto/Test/Tidak_Dikenali/img41.jpg\n",
            "  Ditemukan file: /content/gdrive/MyDrive/Data/Dataset/Foto/Test/Tidak_Dikenali/img42.jpg\n",
            "  Ditemukan file: /content/gdrive/MyDrive/Data/Dataset/Foto/Test/Tidak_Dikenali/img44.jpg\n",
            "  Ditemukan file: /content/gdrive/MyDrive/Data/Dataset/Foto/Test/Tidak_Dikenali/img43.jpg\n",
            "  Ditemukan file: /content/gdrive/MyDrive/Data/Dataset/Foto/Test/Tidak_Dikenali/img45.jpg\n",
            "  Ditemukan file: /content/gdrive/MyDrive/Data/Dataset/Foto/Test/Tidak_Dikenali/img46.jpg\n",
            "  Ditemukan file: /content/gdrive/MyDrive/Data/Dataset/Foto/Test/Tidak_Dikenali/img47.jpg\n",
            "  Ditemukan file: /content/gdrive/MyDrive/Data/Dataset/Foto/Test/Tidak_Dikenali/img48.jpg\n",
            "  Ditemukan file: /content/gdrive/MyDrive/Data/Dataset/Foto/Test/Tidak_Dikenali/img49.jpg\n",
            "  Ditemukan file: /content/gdrive/MyDrive/Data/Dataset/Foto/Test/Tidak_Dikenali/img50.jpg\n",
            "selesai.\n"
          ]
        }
      ]
    },
    {
      "cell_type": "code",
      "source": [
        "# Set image and batch size\n",
        "image_size = (224, 224)\n",
        "batch_size = 12 #Jika dataset train 30, dataset test 6 and 2 kelas (Dikenali dan Tidak_Dikenali)"
      ],
      "metadata": {
        "id": "fmnEf4BxZyRi"
      },
      "id": "fmnEf4BxZyRi",
      "execution_count": 21,
      "outputs": []
    },
    {
      "cell_type": "code",
      "source": [
        "from tensorflow.keras.preprocessing.image import ImageDataGenerator\n",
        "from tensorflow.keras.models import Sequential\n",
        "from tensorflow.keras.layers import Conv2D, MaxPooling2D, Flatten, Dense\n",
        "import os\n",
        "\n",
        "train_path = '/content/gdrive/MyDrive/Data/Dataset/Foto/Train'\n",
        "test_path = '/content/gdrive/MyDrive/Data/Dataset/Foto/Test'\n",
        "\n",
        "image_size = (224, 224)\n",
        "batch_size = 4  # kecilkan batch size jika data sedikit\n",
        "\n",
        "train_datagen = ImageDataGenerator(rescale=1.0/255.0)\n",
        "train_generator = train_datagen.flow_from_directory(\n",
        "    train_path,\n",
        "    target_size=image_size,\n",
        "    batch_size=batch_size,\n",
        "    class_mode='binary'\n",
        ")\n",
        "\n",
        "test_datagen = ImageDataGenerator(rescale=1.0/255.0)\n",
        "test_generator = test_datagen.flow_from_directory(\n",
        "    test_path,\n",
        "    target_size=image_size,\n",
        "    batch_size=batch_size,\n",
        "    class_mode='binary'\n",
        ")\n",
        "\n",
        "model = Sequential()\n",
        "model.add(Conv2D(32, (3,3), activation='relu', input_shape=(image_size[0], image_size[1], 3)))\n",
        "model.add(MaxPooling2D((2,2)))\n",
        "model.add(Conv2D(64, (3,3), activation='relu'))\n",
        "model.add(MaxPooling2D((2,2)))\n",
        "model.add(Conv2D(128, (3,3), activation='relu'))\n",
        "model.add(MaxPooling2D((2,2)))\n",
        "model.add(Conv2D(128, (3,3), activation='relu'))\n",
        "model.add(MaxPooling2D((2,2)))\n",
        "model.add(Flatten())\n",
        "model.add(Dense(512, activation='relu'))\n",
        "model.add(Dense(1, activation='sigmoid'))\n",
        "\n",
        "model.compile(optimizer='adam', loss='binary_crossentropy', metrics=['accuracy'])\n",
        "\n",
        "steps_per_epoch = max(train_generator.samples // batch_size, 1)\n",
        "validation_steps = max(test_generator.samples // batch_size, 1)\n",
        "\n",
        "model.fit(\n",
        "    train_generator,\n",
        "    steps_per_epoch=steps_per_epoch,\n",
        "    epochs=10,\n",
        "    validation_data=test_generator,\n",
        "    validation_steps=validation_steps\n",
        ")\n"
      ],
      "metadata": {
        "colab": {
          "base_uri": "https://localhost:8080/"
        },
        "id": "2qX_vX_5JfS8",
        "outputId": "13d76cc8-c12a-490b-9354-a43cb77e5c54"
      },
      "id": "2qX_vX_5JfS8",
      "execution_count": 41,
      "outputs": [
        {
          "output_type": "stream",
          "name": "stdout",
          "text": [
            "Found 60 images belonging to 2 classes.\n",
            "Found 60 images belonging to 2 classes.\n",
            "Epoch 1/10\n",
            "\u001b[1m15/15\u001b[0m \u001b[32m━━━━━━━━━━━━━━━━━━━━\u001b[0m\u001b[37m\u001b[0m \u001b[1m17s\u001b[0m 932ms/step - accuracy: 0.8382 - loss: 0.8134 - val_accuracy: 0.8167 - val_loss: 0.5184\n",
            "Epoch 2/10\n",
            "\u001b[1m15/15\u001b[0m \u001b[32m━━━━━━━━━━━━━━━━━━━━\u001b[0m\u001b[37m\u001b[0m \u001b[1m13s\u001b[0m 856ms/step - accuracy: 0.8288 - loss: 0.4861 - val_accuracy: 0.8167 - val_loss: 0.4103\n",
            "Epoch 3/10\n",
            "\u001b[1m15/15\u001b[0m \u001b[32m━━━━━━━━━━━━━━━━━━━━\u001b[0m\u001b[37m\u001b[0m \u001b[1m13s\u001b[0m 874ms/step - accuracy: 0.8009 - loss: 0.4414 - val_accuracy: 0.8167 - val_loss: 0.3452\n",
            "Epoch 4/10\n",
            "\u001b[1m15/15\u001b[0m \u001b[32m━━━━━━━━━━━━━━━━━━━━\u001b[0m\u001b[37m\u001b[0m \u001b[1m20s\u001b[0m 852ms/step - accuracy: 0.8005 - loss: 0.4313 - val_accuracy: 0.8333 - val_loss: 0.2791\n",
            "Epoch 5/10\n",
            "\u001b[1m15/15\u001b[0m \u001b[32m━━━━━━━━━━━━━━━━━━━━\u001b[0m\u001b[37m\u001b[0m \u001b[1m21s\u001b[0m 861ms/step - accuracy: 0.9076 - loss: 0.3514 - val_accuracy: 0.9333 - val_loss: 0.2419\n",
            "Epoch 6/10\n",
            "\u001b[1m15/15\u001b[0m \u001b[32m━━━━━━━━━━━━━━━━━━━━\u001b[0m\u001b[37m\u001b[0m \u001b[1m21s\u001b[0m 871ms/step - accuracy: 0.9140 - loss: 0.1709 - val_accuracy: 1.0000 - val_loss: 0.0791\n",
            "Epoch 7/10\n",
            "\u001b[1m15/15\u001b[0m \u001b[32m━━━━━━━━━━━━━━━━━━━━\u001b[0m\u001b[37m\u001b[0m \u001b[1m22s\u001b[0m 951ms/step - accuracy: 0.9526 - loss: 0.2943 - val_accuracy: 1.0000 - val_loss: 0.1640\n",
            "Epoch 8/10\n",
            "\u001b[1m15/15\u001b[0m \u001b[32m━━━━━━━━━━━━━━━━━━━━\u001b[0m\u001b[37m\u001b[0m \u001b[1m14s\u001b[0m 955ms/step - accuracy: 0.9491 - loss: 0.2477 - val_accuracy: 0.9667 - val_loss: 0.1118\n",
            "Epoch 9/10\n",
            "\u001b[1m15/15\u001b[0m \u001b[32m━━━━━━━━━━━━━━━━━━━━\u001b[0m\u001b[37m\u001b[0m \u001b[1m19s\u001b[0m 866ms/step - accuracy: 0.9627 - loss: 0.0964 - val_accuracy: 0.9333 - val_loss: 0.2005\n",
            "Epoch 10/10\n",
            "\u001b[1m15/15\u001b[0m \u001b[32m━━━━━━━━━━━━━━━━━━━━\u001b[0m\u001b[37m\u001b[0m \u001b[1m22s\u001b[0m 957ms/step - accuracy: 0.9546 - loss: 0.2971 - val_accuracy: 0.9333 - val_loss: 0.1595\n"
          ]
        },
        {
          "output_type": "execute_result",
          "data": {
            "text/plain": [
              "<keras.src.callbacks.history.History at 0x7d3cee13b150>"
            ]
          },
          "metadata": {},
          "execution_count": 41
        }
      ]
    },
    {
      "cell_type": "code",
      "source": [
        "from tensorflow.keras.preprocessing.image import ImageDataGenerator\n",
        "\n",
        "# Create data generators for training and testing\n",
        "train_datagen = ImageDataGenerator(rescale=1.0/255.0)\n",
        "train_generator = train_datagen.flow_from_directory(\n",
        "    train_path,\n",
        "    target_size=image_size,\n",
        "    batch_size=batch_size,\n",
        "    class_mode='binary'\n",
        ")\n",
        "\n",
        "test_datagen = ImageDataGenerator(rescale=1.0/255.0)\n",
        "test_generator = test_datagen.flow_from_directory(\n",
        "    test_path,\n",
        "    target_size=image_size,\n",
        "    batch_size=batch_size,\n",
        "    class_mode='binary'\n",
        ")"
      ],
      "metadata": {
        "colab": {
          "base_uri": "https://localhost:8080/"
        },
        "id": "BjM3AwIHaSuC",
        "outputId": "d37a9478-d68f-4191-9fe2-7945c6df49a5"
      },
      "id": "BjM3AwIHaSuC",
      "execution_count": 44,
      "outputs": [
        {
          "output_type": "stream",
          "name": "stdout",
          "text": [
            "Found 60 images belonging to 2 classes.\n",
            "Found 60 images belonging to 2 classes.\n"
          ]
        }
      ]
    },
    {
      "cell_type": "code",
      "execution_count": 42,
      "id": "db1cf418",
      "metadata": {
        "id": "db1cf418",
        "colab": {
          "base_uri": "https://localhost:8080/"
        },
        "outputId": "316e3be7-e6e0-4136-c1b9-a13d5b31c09c"
      },
      "outputs": [
        {
          "output_type": "stream",
          "name": "stdout",
          "text": [
            "Epoch 1/10\n",
            "\u001b[1m2/2\u001b[0m \u001b[32m━━━━━━━━━━━━━━━━━━━━\u001b[0m\u001b[37m\u001b[0m \u001b[1m4s\u001b[0m 649ms/step - accuracy: 0.2500 - loss: 1.1847\n",
            "Epoch 2/10\n",
            "\u001b[1m2/2\u001b[0m \u001b[32m━━━━━━━━━━━━━━━━━━━━\u001b[0m\u001b[37m\u001b[0m \u001b[1m1s\u001b[0m 585ms/step - accuracy: 0.8333 - loss: 0.4821\n",
            "Epoch 3/10\n",
            "\u001b[1m2/2\u001b[0m \u001b[32m━━━━━━━━━━━━━━━━━━━━\u001b[0m\u001b[37m\u001b[0m \u001b[1m1s\u001b[0m 598ms/step - accuracy: 0.7500 - loss: 0.5493\n",
            "Epoch 4/10\n",
            "\u001b[1m2/2\u001b[0m \u001b[32m━━━━━━━━━━━━━━━━━━━━\u001b[0m\u001b[37m\u001b[0m \u001b[1m1s\u001b[0m 597ms/step - accuracy: 0.8333 - loss: 0.3300\n",
            "Epoch 5/10\n",
            "\u001b[1m2/2\u001b[0m \u001b[32m━━━━━━━━━━━━━━━━━━━━\u001b[0m\u001b[37m\u001b[0m \u001b[1m1s\u001b[0m 583ms/step - accuracy: 0.5833 - loss: 0.9188\n",
            "Epoch 6/10\n",
            "\u001b[1m2/2\u001b[0m \u001b[32m━━━━━━━━━━━━━━━━━━━━\u001b[0m\u001b[37m\u001b[0m \u001b[1m1s\u001b[0m 842ms/step - accuracy: 0.9167 - loss: 0.3452\n",
            "Epoch 7/10\n",
            "\u001b[1m2/2\u001b[0m \u001b[32m━━━━━━━━━━━━━━━━━━━━\u001b[0m\u001b[37m\u001b[0m \u001b[1m2s\u001b[0m 896ms/step - accuracy: 0.9167 - loss: 0.2920\n",
            "Epoch 8/10\n",
            "\u001b[1m2/2\u001b[0m \u001b[32m━━━━━━━━━━━━━━━━━━━━\u001b[0m\u001b[37m\u001b[0m \u001b[1m1s\u001b[0m 17ms/step - accuracy: 1.0000 - loss: 0.2461 \n",
            "Epoch 9/10\n"
          ]
        },
        {
          "output_type": "stream",
          "name": "stderr",
          "text": [
            "/usr/local/lib/python3.11/dist-packages/keras/src/trainers/epoch_iterator.py:107: UserWarning: Your input ran out of data; interrupting training. Make sure that your dataset or generator can generate at least `steps_per_epoch * epochs` batches. You may need to use the `.repeat()` function when building your dataset.\n",
            "  self._interrupted_warning()\n"
          ]
        },
        {
          "output_type": "stream",
          "name": "stdout",
          "text": [
            "\u001b[1m2/2\u001b[0m \u001b[32m━━━━━━━━━━━━━━━━━━━━\u001b[0m\u001b[37m\u001b[0m \u001b[1m2s\u001b[0m 709ms/step - accuracy: 0.7500 - loss: 0.4958\n",
            "Epoch 10/10\n",
            "\u001b[1m2/2\u001b[0m \u001b[32m━━━━━━━━━━━━━━━━━━━━\u001b[0m\u001b[37m\u001b[0m \u001b[1m1s\u001b[0m 568ms/step - accuracy: 0.8333 - loss: 0.3554\n",
            "\u001b[1m2/2\u001b[0m \u001b[32m━━━━━━━━━━━━━━━━━━━━\u001b[0m\u001b[37m\u001b[0m \u001b[1m0s\u001b[0m 145ms/step - accuracy: 1.0000 - loss: 0.0741\n"
          ]
        },
        {
          "output_type": "stream",
          "name": "stderr",
          "text": [
            "WARNING:absl:You are saving your model as an HDF5 file via `model.save()` or `keras.saving.save_model(model)`. This file format is considered legacy. We recommend using instead the native Keras format, e.g. `model.save('my_model.keras')` or `keras.saving.save_model(model, 'my_model.keras')`. \n"
          ]
        },
        {
          "output_type": "stream",
          "name": "stdout",
          "text": [
            "Test Loss: 0.07703466713428497\n",
            "Test Accuracy: 1.0\n",
            "Model berhasil disimpan di: /content/gdrive/MyDrive/Data/Dataset/model.h5\n"
          ]
        }
      ],
      "source": [
        "# Build the model\n",
        "model = Sequential()\n",
        "model.add(Conv2D(32, (3, 3), activation='relu', input_shape=(image_size[0], image_size[1], 3)))\n",
        "model.add(MaxPooling2D((2, 2)))\n",
        "model.add(Conv2D(64, (3, 3), activation='relu'))\n",
        "model.add(MaxPooling2D((2, 2)))\n",
        "model.add(Conv2D(128, (3, 3), activation='relu'))\n",
        "model.add(MaxPooling2D((2, 2)))\n",
        "model.add(Conv2D(128, (3, 3), activation='relu'))\n",
        "model.add(MaxPooling2D((2, 2)))\n",
        "model.add(Flatten())\n",
        "model.add(Dense(512, activation='relu'))\n",
        "model.add(Dense(1, activation='sigmoid'))\n",
        "\n",
        "# Compile the model\n",
        "model.compile(optimizer='adam', loss='binary_crossentropy', metrics=['accuracy'])\n",
        "\n",
        "# Train the model\n",
        "model.fit(train_generator, steps_per_epoch=2, epochs=10)\n",
        "\n",
        "# Evaluate the model\n",
        "loss, accuracy = model.evaluate(test_generator, steps=2)\n",
        "print(\"Test Loss:\", loss)\n",
        "print(\"Test Accuracy:\", accuracy)\n",
        "\n",
        "#Simpan Model\n",
        "model_save_path = '/content/gdrive/MyDrive/Data/Dataset/model.h5'\n",
        "\n",
        "model.save(model_save_path)\n",
        "\n",
        "if os.path.exists(model_save_path):\n",
        "    print(\"Model berhasil disimpan di:\", model_save_path)\n",
        "else:\n",
        "    print(\"Model gagal disimpan.\")"
      ]
    },
    {
      "cell_type": "markdown",
      "id": "d957a985",
      "metadata": {
        "id": "d957a985"
      },
      "source": [
        "# MENJALANKAN MODEL"
      ]
    },
    {
      "cell_type": "code",
      "source": [
        "# Fungsi untuk melakukan praproses dan prediksi pada gambar baru\n",
        "def prediksi_gambar(model, file_path):\n",
        "    # Muat gambar\n",
        "    img = load_img(file_path, target_size=(224, 224))\n",
        "\n",
        "    # Konversi gambar ke array\n",
        "    img_array = img_to_array(img)\n",
        "\n",
        "    # Normalisasi gambar\n",
        "    img_array = img_array / 255.0\n",
        "\n",
        "    # Tambahkan dimensi batch agar sesuai dengan input model (1, 224, 224, 3)\n",
        "    img_array = np.expand_dims(img_array, axis=0)\n",
        "\n",
        "    # Lakukan prediksi\n",
        "    prediction = model.predict(img_array)\n",
        "\n",
        "    # Interpretasi hasil\n",
        "    if prediction[0] >= 0.6:\n",
        "        print(\"Prediksi: Dikenali (confidence:\", prediction[0], \")\")\n",
        "    else:\n",
        "        print(\"Prediksi: Tidak Dikenali (confidence:\", prediction[0], \")\")\n",
        "\n",
        "# Path ke gambar baru yang ingin diuji\n",
        "file_path = '/content/gdrive/MyDrive/Data/Dataset/Foto/Train/Dikenali/img10.jpg'\n",
        "\n",
        "# Panggil fungsi prediksi\n",
        "prediksi_gambar(model, file_path)\n"
      ],
      "metadata": {
        "colab": {
          "base_uri": "https://localhost:8080/"
        },
        "id": "5MMLuk1PbYpZ",
        "outputId": "785f20b8-43be-4959-9ec1-7b5edd379aa1"
      },
      "id": "5MMLuk1PbYpZ",
      "execution_count": 46,
      "outputs": [
        {
          "output_type": "stream",
          "name": "stdout",
          "text": [
            "\u001b[1m1/1\u001b[0m \u001b[32m━━━━━━━━━━━━━━━━━━━━\u001b[0m\u001b[37m\u001b[0m \u001b[1m0s\u001b[0m 70ms/step\n",
            "Prediksi: Dikenali (confidence: [0.7014366] )\n"
          ]
        }
      ]
    }
  ],
  "metadata": {
    "kernelspec": {
      "display_name": "Python 3 (ipykernel)",
      "language": "python",
      "name": "python3"
    },
    "language_info": {
      "codemirror_mode": {
        "name": "ipython",
        "version": 3
      },
      "file_extension": ".py",
      "mimetype": "text/x-python",
      "name": "python",
      "nbconvert_exporter": "python",
      "pygments_lexer": "ipython3",
      "version": "3.9.13"
    },
    "colab": {
      "provenance": [],
      "include_colab_link": true
    }
  },
  "nbformat": 4,
  "nbformat_minor": 5
}